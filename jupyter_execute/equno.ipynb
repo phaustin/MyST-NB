{
 "cells": [
  {
   "cell_type": "markdown",
   "metadata": {},
   "source": [
    "# Equation test"
   ]
  },
  {
   "cell_type": "markdown",
   "metadata": {},
   "source": [
    "## Delimiters\n",
    "\n",
    "### Source -- with $$\n",
    "```\n",
    "$$\n",
    "\\begin{align}\n",
    "\\dot{x} & = \\sigma(y-x) \\\\\n",
    "\\dot{y} & = \\rho x - y - xz \\\\\n",
    "\\dot{z} & = -\\beta z + xy\n",
    "\\end{align}\n",
    "$$(eq:one)\n",
    "```\n",
    "### Display \\$\\$\n",
    "\n",
    "$$\n",
    "\\begin{align}\n",
    "\\dot{x} & = \\sigma(y-x) \\\\\n",
    "\\dot{y} & = \\rho x - y - xz \\\\\n",
    "\\dot{z} & = -\\beta z + xy\n",
    "\\end{align}\n",
    "$$(eq:one)"
   ]
  },
  {
   "cell_type": "markdown",
   "metadata": {},
   "source": [
    "### Source -- no \\$\\$\n",
    "```\n",
    "\\begin{align*}\n",
    "\\dot{x} & = \\sigma(y-x) \\\\\n",
    "\\dot{y} & = \\rho x - y - xz \\\\\n",
    "\\dot{z} & = -\\beta z + xy\n",
    "\\end{align*}\n",
    "```\n",
    "### Display no $$\n",
    "\n",
    "\n",
    "\\begin{align*}\n",
    "\\dot{x} & = \\sigma(y-x) \\\\\n",
    "\\dot{y} & = \\rho x - y - xz \\\\\n",
    "\\dot{z} & = -\\beta z + xy\n",
    "\\end{align*}"
   ]
  },
  {
   "cell_type": "markdown",
   "metadata": {},
   "source": [
    "Reference {eq}`eq:one`\n",
    "\n",
    "## aligned equations\n",
    "\n",
    "### align numbering single\n",
    "\n",
    "```\n",
    "$$\n",
    "\\begin{align} \n",
    "g(X_{n}) &= g(\\theta)+g'({\\tilde{\\theta}})(X_{n}-\\theta) \\notag \\\\\n",
    "\\sqrt{n}[g(X_{n})-g(\\theta)] &= g'\\left({\\tilde{\\theta}}\\right)\n",
    "  \\sqrt{n}[X_{n}-\\theta ] \n",
    "\\end{align} \n",
    "$$(eq:align1)\n",
    "```\n",
    "\n",
    "$$\n",
    "\\begin{align} \n",
    "g(X_{n}) &= g(\\theta)+g'({\\tilde{\\theta}})(X_{n}-\\theta) \\notag \\\\\n",
    "\\sqrt{n}[g(X_{n})-g(\\theta)] &= g'\\left({\\tilde{\\theta}}\\right)\n",
    "  \\sqrt{n}[X_{n}-\\theta ] \n",
    "\\end{align} \n",
    "$$(eq:align1)\n",
    "\n",
    "### align numbering multiple\n",
    "\n",
    "```\n",
    "$$\n",
    "\\begin{split}\n",
    "\\mathrm{Var}(\\hat{\\beta}) & =\\mathrm{Var}((X'X)^{-1}X'y)\\\\\n",
    " & =(X'X)^{-1}X'\\mathrm{Var}(y)((X'X)^{-1}X')'  \\label{eq:sub1}\\\\\n",
    " & =(X'X)^{-1}X'\\mathrm{Var}(y)X(X'X)^{-1}\\notag\\\\\n",
    " & =(X'X)^{-1}X'\\sigma^{2}IX(X'X)^{-1}\\\\\n",
    " & =(X'X)^{-1}\\sigma^{2}\\label{sub:2}\n",
    " \\end{split}\n",
    " $$\n",
    "```\n",
    "\n",
    "\n",
    "$$\n",
    "\\begin{split}\n",
    "\\mathrm{Var}(\\hat{\\beta}) & =\\mathrm{Var}((X'X)^{-1}X'y)\\\\\n",
    " & =(X'X)^{-1}X'\\mathrm{Var}(y)((X'X)^{-1}X')'  \\label{eq:sub1}\\\\\n",
    " & =(X'X)^{-1}X'\\mathrm{Var}(y)X(X'X)^{-1}\\notag\\\\\n",
    " & =(X'X)^{-1}X'\\sigma^{2}IX(X'X)^{-1}\\\\\n",
    " & =(X'X)^{-1}\\sigma^{2}\\label{sub:2}\n",
    " \\end{split}\n",
    " $$"
   ]
  }
 ],
 "metadata": {
  "jupytext": {
   "cell_metadata_filter": "all",
   "formats": "ipynb,md:myst,py:percent",
   "notebook_metadata_filter": "all,-language_info,-toc,-latex_envs"
  },
  "kernelspec": {
   "display_name": "Python 3",
   "language": "python",
   "name": "python3"
  },
  "language_info": {
   "codemirror_mode": {
    "name": "ipython",
    "version": 3
   },
   "file_extension": ".py",
   "mimetype": "text/x-python",
   "name": "python",
   "nbconvert_exporter": "python",
   "pygments_lexer": "ipython3",
   "version": "3.7.6"
  }
 },
 "nbformat": 4,
 "nbformat_minor": 4
}