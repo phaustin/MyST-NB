{
 "cells": [
  {
   "cell_type": "markdown",
   "metadata": {},
   "source": [
    "# Laboratory 7: Solving partial differential equations using an explicit, finite difference method.\n",
    "\n",
    "Lin Yang & Susan Allen & Carmen Guo"
   ]
  },
  {
   "cell_type": "markdown",
   "metadata": {},
   "source": [
    "## List of Problems ##\n",
    "- [Problem 1](#Problem-One): Numerical solution on a staggered grid.\n",
    "- [Problem 2](#Problem-Two): Stability of the difference scheme\n",
    "- [Problem 3](#Problem-Three): Dispersion relation for grid 2\n",
    "- [Problem 4](#Problem-Four): Choosing most accurate grid\n",
    "- [Problem 5](#Problem-Five): Numerical solution for no y variation\n",
    "- [Problem 6](#Problem-Six): Stability on the 2-dimensional grids\n",
    "- [Problem 7](#Problem-Seven): Finite difference form of equations\n",
    "- [Problem 8](#Problem-Eight): Dispersion relation for D-grid\n",
    "- [Problem 9](#Problem-Nine): Accuracy of the approximation on various grids"
   ]
  },
  {
   "cell_type": "markdown",
   "metadata": {},
   "source": [
    "## Objectives ##\n",
    "\n",
    "### Sections 4 through 7\n",
    "\n",
    "When you have completed these sections you will be able to:\n",
    "\n",
    "-   find the dispersion relation for a set of differential equations\n",
    "    (the “real” dispersion relation).\n",
    "\n",
    "-   find the dispersion relation for a set of difference equations (the\n",
    "    numerical dispersion relation).\n",
    "\n",
    "-   describe a leap-frog scheme\n",
    "\n",
    "-   construct a predictor-corrector method\n",
    "\n",
    "-   use the given differential equations to determine unspecified\n",
    "    boundary conditions as necessary\n",
    "\n",
    "-   describe a staggered grid\n",
    "\n",
    "-   state one reason why staggered grids are used\n",
    "\n",
    "-   explain the physical principle behind the CFL condition\n",
    "\n",
    "-   find the CFL condition for a linear, explicit, numerical scheme\n",
    "\n",
    "-   state one criteria that should be considered when choosing a grid\n"
   ]
  },
  {
   "cell_type": "markdown",
   "metadata": {},
   "source": [
    "## Readings\n",
    "\n",
    "These are the suggested readings for this lab. For more details about\n",
    "the books and papers, click on the reference link.\n",
    "\n",
    "-   **Rotating Navier Stokes Equations**\n",
    "\n",
    "    -    [Pond and Pickard, 1983](#Ref:PondPickard), Chapters 3,4 and 6\n",
    "\n",
    "-   **Shallow Water Equations**\n",
    "\n",
    "    -    [Gill, 1982](#Ref:Gill), Section 5.6 and 7.2 (not 7.2.1 etc)\n",
    "\n",
    "-   **Poincaré Waves**\n",
    "\n",
    "    -    [Gill, 1982](#Ref:Gill), Section 7.3 to just after equation (7.3.8), section 8.2\n",
    "        and 8.3\n",
    "\n",
    "-   **Introduction to Numerical Solution of PDE’s**\n",
    "\n",
    "    -    [Press et al, 1992](#Ref:Pressetal), Section 17.0\n",
    "\n",
    "-   **Waves**\n",
    "\n",
    "    -    [Cushman-Roision, 1994](#Ref:Cushman-Roisin), Appendix A"
   ]
  },
  {
   "cell_type": "markdown",
   "metadata": {},
   "source": [
    "## Physical Example, Poincaré Waves\n",
    "\n",
    "One of the obvious examples of a physical phenomena governed by a\n",
    "partial differential equation is waves. Consider a shallow layer of\n",
    "water and the waves on the surface of that layer. If the depth of the\n",
    "water is much smaller than the wavelength of the waves, the velocity of\n",
    "the water will be the same throughout the depth. So then we can describe\n",
    "the state of the water by three variables: $u(x,y,t)$, the east-west\n",
    "velocity of the water, $v(x,y,t)$, the north-south velocity of the water\n",
    "and $h(x,y,t)$, the height the surface of the water is deflected. As\n",
    "specified, each of these variables are functions of the horizontal\n",
    "position, $(x,y)$ and time $t$ but, under the assumption of shallow\n",
    "water, not a function of $z$.\n",
    "\n",
    "In oceanographic and atmospheric problems, the effect of the earth’s\n",
    "rotation is often important. We will first introduce the governing\n",
    "equations including the Coriolis force ([Full Equations](#Full-Equations)). However,\n",
    "most of the numerical concepts can be considered without all the\n",
    "complications in these equations. We will also consider two simplier\n",
    "sets; one where we assume there is no variation of the variables in the\n",
    "y-direction ([No variation in y](#No-variation-in-y)) and one where, in addition, we assume\n",
    "that the Coriolis force is negligible ([Simple Equations](#Simple-Equations)).\n",
    "\n",
    "The solution of the equations including the Coriolis force are Poincaré\n",
    "waves whereas without the Coriolis force, the resulting waves are called\n",
    "shallow water gravity waves.\n",
    "\n",
    "The remainder of this section will present the equations and discuss the\n",
    "dispersion relation for the two simplier sets of equations. If your wave\n",
    "theory is rusty, consider reading Appendix A in [Cushman-Roisin, 1994](#Ref:Cushman-Roisin)."
   ]
  },
  {
   "cell_type": "markdown",
   "metadata": {},
   "source": [
    "### Introduce Full Equations \n",
    "[full-equations]:(#Introduce-Full-Equations)\n",
    "\n",
    "The linear shallow water equations on an f-plane over a flat bottom are\n",
    "<div id='lab7:eq:swea'>\n",
    "(Full Equations, Eqn 1)\n",
    "$$\\frac{\\partial u}{\\partial t} - fv = -g\\frac{\\partial h}{\\partial x}$$\n",
    "</div><div id='lab7:eq:sweb'>\n",
    "(Full Equations, Eqn 2)\n",
    "$$\\frac{\\partial v}{\\partial t} + fu = -g\\frac{\\partial h}{\\partial y} $$\n",
    "</div><div id='lab7:eq:swec'>\n",
    "(Full Equations, Eqn 3)\n",
    "$$\\frac{\\partial h}{\\partial t} + H\\frac{\\partial u}{\\partial x} + H\\frac{\\partial v}{\\partial y} = 0$$ \n",
    "</div>\n",
    "where\n",
    "\n",
    "-   $\\vec{u} = (u,v)$ is the horizontal velocity,\n",
    "\n",
    "-   $f$ is the Coriolis frequency,\n",
    "\n",
    "-   $g$ is the acceleration due to gravity,\n",
    "\n",
    "-   $h$ is the surface elevation, and\n",
    "\n",
    "-   $H$ is the undisturbed depth of the fluid.\n",
    "\n",
    "We will return to these equations in section [Full Equations](#Full-Equations)."
   ]
  },
  {
   "cell_type": "markdown",
   "metadata": {},
   "source": [
    "### No variation in y\n",
    "[no-variation-in-y.unnumbered]: (#No-variation-in-y)\n",
    "\n",
    "To simplify the problem assume there is no variation in y. This\n",
    "simplification gives:\n",
    "<div id='lab7:sec:firsteq'>\n",
    "(No variation in y, first eqn)\n",
    "$$\\frac{\\partial u}{\\partial t} - fv = -g\\frac{\\partial h}{\\partial x}$$ \n",
    "</div><div id='lab7:sec:secondeq'>\n",
    "(No variation in y, second eqn)\n",
    "$$\\frac{\\partial v}{\\partial t} + fu = 0$$\n",
    "</div><div id='lab7:sec:thirdeq'>\n",
    "(No variation in y, third eqn)\n",
    "$$\\frac{\\partial h}{\\partial t} + H\\frac{\\partial u}{\\partial x} = 0$$\n",
    "</div>"
   ]
  },
  {
   "cell_type": "markdown",
   "metadata": {},
   "source": [
    "### Introduce Simple Equations\n",
    "[simple-equations]:(#Simple-Equations)\n",
    "\n",
    "If we consider waves in the absence of the earth’s rotation, $f=0$,\n",
    "which implies $v=0$ and we get\n",
    "<div id='lab7:sec:simple_eq1'>\n",
    "$$\\frac{\\partial u}{\\partial t} = -g\\frac{\\partial h}{\\partial x}$$\n",
    "</div><div id='lab7:sec:simple_eq2'>\n",
    "$$\\frac{\\partial h}{\\partial t} + H\\frac{\\partial u}{\\partial x} = 0$$\n",
    "</div>\n",
    "\n",
    "These simplified equations give shallow water gravity waves. For\n",
    "example, a solution is a simple sinusoidal wave:\n",
    "<div id='lab7:sec:hwave'>\n",
    "(wave solution- h)\n",
    "$$h = h_{0}\\cos{(kx - \\omega t)}$$\n",
    "</div><div id='lab7:sec:uwave'>\n",
    "(wave solution- u)\n",
    "$$u = \\frac{h_{0}\\omega}{kH}\\cos{(kx - \\omega t)}$$ \n",
    "</div>\n",
    "where $h_{0}$ is the amplitude, $k$ is the\n",
    "wavenumber and $\\omega$ is the frequency (See [Cushman-Roisin, 1994](#Ref:Cushman-Roisin) for a nice\n",
    "review of waves in Appendix A).\n",
    "\n",
    "Substitution of ([wave solution- h](#lab7:sec:hwave)) and ([wave solution- u](#lab7:sec:uwave)) back into\n",
    "the differential equations gives a relation between $\\omega$ and k.\n",
    "Confirm that \n",
    "<div id='lab7:eq:disp'>\n",
    "(Analytic Dispersion Relation)\n",
    "$$\\omega^2 = gHk^2,$$\n",
    "</div>\n",
    "which is the dispersion relation for these waves."
   ]
  },
  {
   "cell_type": "markdown",
   "metadata": {},
   "source": [
    "### No variation in y\n",
    "[no-variation-in-y-1.unnumbered]:(#No-variation-in-y)\n",
    "\n",
    "Now consider $f\\not = 0$.\n",
    "\n",
    "By assuming $$h= h_{0}e^{i(kx - \\omega t)}$$\n",
    "$$u= u_{0}e^{i(kx - \\omega t)}$$ $$v= v_{0}e^{i(kx - \\omega t)}$$\n",
    "\n",
    "and substituting into the differential equations, eg, for [(No variation in y, first eqn)](#lab7:sec:firsteq)\n",
    "$$-iwu_{0}e^{i(kx - \\omega t)} - fv_{0}e^{i(kx - \\omega t)} + ikgh_{0}e^{i(kx - \\omega t)} = 0$$\n",
    "and cancelling the exponential terms gives 3 homogeneous equations for\n",
    "$u_{0}$, $v_{0}$ and $h_{0}$. If the determinant of the matrix derived\n",
    "from these three equations is non-zero, the only solution is\n",
    "$u_{0} = v_{0} = h_{0} = 0$, NO WAVE! Therefore the determinant must be\n",
    "zero."
   ]
  },
  {
   "cell_type": "markdown",
   "metadata": {},
   "source": [
    "### Quiz: Find the Dispersion Relation\n",
    "\n",
    "What is the dispersion relation for 1-dimensional Poincare waves?\n",
    "\n",
    "A) $\\omega^2 = f^2 + gH (k^2 + \\ell^2)$\n",
    "\n",
    "B) $\\omega^2 = gH k^2$\n",
    "\n",
    "C) $\\omega^2 = f^2 + gH k^2$\n",
    "\n",
    "D) $\\omega^2 = -f^2 + gH k^2$\n",
    "\n",
    "In the following, replace 'x' by 'A', 'B', 'C' or 'D' and run the cell."
   ]
  },
  {
   "cell_type": "code",
   "execution_count": null,
   "metadata": {},
   "outputs": [],
   "source": [
    "print (quiz.dispersion_quiz(answer = 'A'))"
   ]
  },
  {
   "cell_type": "markdown",
   "metadata": {},
   "source": [
    "## Numerical Solution\n",
    "\n",
    "### Simple Equations\n",
    "[simple-equations]:(#Simple-Equations)\n",
    "\n",
    "Consider first the simple equations with $f = 0$. In order to solve\n",
    "these equations numerically, we need to discretize in 2 dimensions, one\n",
    "in space and one in time. Consider first the most obvious choice, shown\n",
    "in Figure [Unstaggered Grid](#lab7:fig:nonstagger)."
   ]
  },
  {
   "cell_type": "code",
   "execution_count": null,
   "metadata": {},
   "outputs": [],
   "source": [
    "Image(filename='images/nonstagger.png',width='40%') "
   ]
  },
  {
   "cell_type": "markdown",
   "metadata": {},
   "source": [
    "<div id='lab7:fig:nonstagger'>\n",
    "<b>Figure Unstaggered Grid.</b>\n",
    "</div>\n",
    "\n",
    "We will use centred difference schemes in both $x$ and $t$. The\n",
    "equations become:\n",
    "<div id='lab7:eq:nonstaggerGrid1'>\n",
    "(Non-staggered, Eqn One)\n",
    "$$\\frac {u(t+dt, x)-u(t-dt, x)}{2 dt} + g \\frac {h(t, x+dx) - h(t, x-dx)}{2dx} = 0$$\n",
    "</div><div id='lab7:eq:nonstaggerGrid2'>\n",
    "(Non-staggered, Eqn Two)\n",
    "$$\\frac {h(t+dt, x)-h(t-dt, x)}{2 dt} + H \\frac {u(t, x+dx) - u(t, x-dx)}{2dx} = 0$$\n",
    "</div>\n",
    "We can rearrange these equations to\n",
    "give $u(t+dt, x)$ and $h(t+dt, x)$. For a small number of points, the\n",
    "resulting problem is simple enough to solve in a notebook.\n",
    "\n",
    "For a specific example, consider a dish, 40 cm long, of water 1 cm deep.\n",
    "Although the numerical code presented later allows you to vary the\n",
    "number of grid points, in the discussion here we will use only 5 spatial\n",
    "points, a distance of 10 cm apart. The lack of spatial resolution means\n",
    "the wave will have a triangular shape. At $t=0$ a large drop of water\n",
    "lands in the centre of the dish. So at $t=0$, all points have zero\n",
    "velocity and zero elevation except at $x=3dx$, where we have\n",
    "$$h(0, 3dx) = h_{0} = 0.01 cm$$\n",
    "\n",
    "A centred difference scheme in time, such as defined by equations\n",
    "([Non-staggered, Eqn One](#lab7:eq:nonstaggerGrid1)) and ([Non-staggered, Eqn Two](#lab7:eq:nonstaggerGrid2)), is\n",
    "usually refered to as a *Leap frog scheme*. The new values, $h(t+dt)$\n",
    "and $u(t+dt)$ are equal to values two time steps back $h(t-dt)$ and\n",
    "$u(t-dt)$ plus a correction based on values calculated one time step\n",
    "back. Hence the time scheme “leap-frogs” ahead. More on the consequences\n",
    "of this process can be found in section [Computational Mode](#Computational-Mode).\n",
    "\n",
    "As a leap-frog scheme requires two previous time steps, the given\n",
    "conditions at $t=0$ are not sufficient to solve\n",
    "([Non-staggered, Eqn One](#lab7:eq:nonstaggerGrid1)) and ([Non-staggered, Eqn Two](#lab7:eq:nonstaggerGrid2)). We\n",
    "need the solutions at two time steps in order to step forward."
   ]
  },
  {
   "cell_type": "markdown",
   "metadata": {},
   "source": [
    "### Predictor-Corrector to Start\n",
    "[lab7:sec:pred-cor]:(#Predictor-Corrector-to-Start)\n",
    "\n",
    "In section 4.2.2 of Lab 2, predictor-corrector methods were introduced.\n",
    "We will use a predictor-corrector based on the forward Euler scheme, to\n",
    "find the solution at the first time step, $t=dt$. Then the second order\n",
    "scheme ([Non-staggered, Eqn One](#lab7:eq:nonstaggerGrid1)), ([Non-staggered, Eqn Two](#lab7:eq:nonstaggerGrid2)) can be used.\n",
    "\n",
    "Using the forward Euler Scheme, the equations become\n",
    "<div id='lab7:eq:newnonstaggerGrid1'>\n",
    "$$\\frac {u(t+dt, x)-u(t, x)}{dt} + g \\frac {h(t, x+dx) - h(t, x-dx)}{2dx} = 0$$\n",
    "</div><div id='lab7:eq:newnonstaggerGrid2'>\n",
    "$$\\frac {h(t+dt, x)-h(t, x)}{dt} + H \\frac {u(t, x+dx) - u(t, x-dx)}{2dx} = 0$$\n",
    "</div>\n",
    "\n",
    "1.  Use this scheme to predict $u$ and $h$ at $t=dt$.\n",
    "\n",
    "2.  Average the solution at $t=0$ and that predicted for $t=dt$, to\n",
    "    estimate the solution at $t=\\frac{1}{2}dt$. You should confirm that\n",
    "    this procedure gives: $$u(\\frac{dt}{2}) = \\left\\{ \\begin{array}{ll}\n",
    "    0 & { x = 3dx}\\\\\n",
    "    \\left({-gh_{0}dt}\\right)/\\left({4dx}\\right) & { x = 2dx}\\\\\n",
    "    \\left({gh_{0}dt}\\right)/\\left({4dx}\\right) & { x = 4dx}\n",
    "    \\end{array}\n",
    "    \\right.$$\n",
    "\n",
    "    $$h(\\frac{dt}{2}) = \\left\\{ \\begin{array}{ll}\n",
    "    h_{0} & { x = 3dx}\\\\\n",
    "    0 & { x \\not= 3dx}\n",
    "    \\end{array}\n",
    "    \\right.$$\n",
    "\n",
    "3.  The corrector step uses the centred difference scheme in time (the\n",
    "    leap-frog scheme) with a time step of ${dt}/{2}$ rather than dt. You\n",
    "    should confirm that this procedure gives:\n",
    "    $$u(dt) = \\left\\{ \\begin{array}{ll}\n",
    "    0 & { x = 3dx}\\\\\n",
    "    \\left({-gh_{0}dt}\\right)/\\left({2dx}\\right) & { x = 2dx}\\\\\n",
    "    \\left({gh_{0}dt}\\right)/\\left({2dx}\\right) & { x = 4dx}\n",
    "    \\end{array}\n",
    "    \\right.$$\n",
    "\n",
    "    $$h(dt) = \\left\\{ \\begin{array}{ll}\n",
    "    0 & { x = 2dx, 4dx}\\\\\n",
    "    h_{0} - \\left({gHdt^2 h_{0}}\\right)/\\left({4dx^2}\\right) & { x = 3dx}\n",
    "    \\end{array}\n",
    "    \\right.$$\n",
    "\n",
    "Note that the values at $x=dx$ and $x=5dx$ have not been specified.\n",
    "These are boundary points and to determine these values we must consider\n",
    "the boundary conditions."
   ]
  },
  {
   "cell_type": "markdown",
   "metadata": {},
   "source": [
    "### Boundary Conditions\n",
    "\n",
    "If we are considering a dish of water, the boundary conditions at\n",
    "$x=dx, 5dx$ are those of a wall. There must be no flow through the wall.\n",
    "$$u(dx) = 0$$ $$u(5dx) = 0$$ But these two conditions are not\n",
    "sufficient; we also need $h$ at the walls. If $u=0$ at the wall for all\n",
    "time then $\\partial u/\\partial t=0$ at the wall, so $\\partial h/\\partial x=0$ at the wall. Using a\n",
    "one-sided difference scheme this gives\n",
    "$$\\frac {h(2dx) - h(dx)}{dx} = 0$$ or$$h(dx) = h(2dx)$$\n",
    "and$$\\frac {h(4dx) - h(5dx)}{dx} = 0$$ or$$h(5dx) = h(4dx)$$ which gives\n",
    "the required boundary conditions on $h$ at the wall."
   ]
  },
  {
   "cell_type": "markdown",
   "metadata": {},
   "source": [
    "### Simple Equations on a Non-staggered Grid\n",
    "\n",
    "1.  Given the above equations and boundary conditions, we can find the\n",
    "    values of $u$ and $h$ at all 5 points when $t = 0$ and $t = dt$.\n",
    "\n",
    "2.  From ([Non-staggered, Eqn One](#lab7:eq:nonstaggerGrid1)) and ([Non-staggered, Eqn Two](#lab7:eq:nonstaggerGrid2)), we can find the values of $u$ and\n",
    "    $h$ for $t = 2dt$ using $u(0, x)$, $u(dt, x)$, $h(0, x)$, and\n",
    "    $h(dt, x)$.\n",
    "\n",
    "3.  Then we can find the values of $u$ and $h$ at $t = 3dt$ using\n",
    "    $u(dt, x)$, $u(2dt, x)$, $h(dt, x)$, and $h(2dt, x)$.\n",
    "\n",
    "We can use this approach recursively to determine the values of $u$ and\n",
    "$h$ at any time $t = n * dt$. The python code that solves this problem\n",
    "is provided in the file rain.py. It takes two arguments, the first is the\n",
    "number of time steps and the second is the number of horizontal grid\n",
    "points. \n",
    "\n",
    "The output is two coloured graphs.  The color represents time with black\n",
    "the earliest times and red later times.  The upper plot shows the water\n",
    "velocity (u) and the lower plot shows the water surface.  To start with\n",
    "the velocity is 0 (black line at zero across the whole domain) and the\n",
    "water surface is up at the mid point and zero at all other points (black\n",
    "line up at midpoint and zero elsewhere)\n",
    "\n",
    "Not much happens in 6 time-steps.  Do try longer and more grid points."
   ]
  },
  {
   "cell_type": "code",
   "execution_count": null,
   "metadata": {},
   "outputs": [],
   "source": [
    "rain.rain([6, 5])"
   ]
  },
  {
   "cell_type": "markdown",
   "metadata": {},
   "source": [
    "If you want to change something in the script (say the colormap I've chosen, viridis, doesn't work for you), you can edit rain.py in an editor or spyder.  To make it take effect here though, you have to reload rain.  See next cell for how to.  You will also need to do this if you do problem one or other tests changing rain.py but running in a notebook."
   ]
  },
  {
   "cell_type": "code",
   "execution_count": null,
   "metadata": {},
   "outputs": [],
   "source": [
    "import importlib\n",
    "importlib.reload(rain)"
   ]
  },
  {
   "cell_type": "markdown",
   "metadata": {},
   "source": [
    "### Staggered Grids\n",
    "[lab7:sec:staggered]:(#Staggered-Grids)\n",
    "\n",
    "After running the program with different numbers of spatial points, you\n",
    "will discover that the values of $u$ are always zero at the odd numbered\n",
    "points, and that the values of $h$ are always zero at the even numbered\n",
    "points. In other words, the values of $u$ and $h$ are zero in every\n",
    "other column starting from $u(t, dx)$ and $h(t, 2dx)$, respectively.\n",
    "\n",
    "A look at ([Non-staggered, Eqn One](#lab7:eq:nonstaggerGrid1)) and ([Non-staggered, Eqn Two](#lab7:eq:nonstaggerGrid2)) can help us understand why this is the\n",
    "case:\n",
    "\n",
    "$u(t + dt, x)$ is dependent on $h(t , x + dx)$ and $h(t , x - dx)$,\n",
    "\n",
    "but $h(t , x + dx)$ is in turn dependent on $u$ at $x + 2dx$ and at\n",
    "$x$,\n",
    "\n",
    "and $h(t , x - dx)$ is in turn dependent on $u$ at $x - 2dx$ and at\n",
    "$x$.\n",
    "\n",
    "Thus, if we just look at $u$ at a particular $x$, $u(x)$ will depend on\n",
    "$u(x + 2dx)$, $u(x - 2dx)$, $u(x + 4dx)$, $u(x - 4dx)$, $u(x + 6dx)$,\n",
    "$u(x - 6dx),$ ... but not on $u(x + dx)$ or $u(x - dx)$. Therefore, the\n",
    "problem is actually decoupled and consists of two independent problems:\n",
    "one problem for all the $u$’s at odd numbered points and all the $h$’s\n",
    "at even numbered points, and the other problem for all the $u$’s at even\n",
    "numbered points and all the $h$’s at odd numbered points, as shown in\n",
    "Figure [Unstaggered Dependency](#lab7:fig:dependency)."
   ]
  },
  {
   "cell_type": "code",
   "execution_count": null,
   "metadata": {},
   "outputs": [],
   "source": [
    "Image(filename='images/dependency.png',width='50%') "
   ]
  },
  {
   "cell_type": "markdown",
   "metadata": {},
   "source": [
    "<div id='lab7:fig:dependency'>\n",
    "<b>Figure Unstaggered Dependency</b>\n",
    "</div>\n",
    "\n",
    "In either problem, only the variable that is relevant to that problem\n",
    "will be considered at each point. So for one problem, if at point $x$ we\n",
    "consider the $u$ variable, at $x + dx$ and $x -dx$ we consider $h$. In\n",
    "the other problem, at the same point $x$, we consider the variable $h$.\n",
    "\n",
    "Now we can see why every second $u$ point and $h$ point are zero for\n",
    "*rain*. We start with all of\n",
    "$u(dx), h(2dx), u(3dx), h(4dx), u(5dx) = 0$, which means they remain at\n",
    "zero.\n",
    "\n",
    "Since the original problem can be decoupled, we can solve for $u$ and\n",
    "$h$ on each decoupled grid separately. But why solve two problems?\n",
    "Instead, we solve for $u$ and $h$ on a single staggered grid; whereas\n",
    "before we solved for $u$ and $h$ on the complete, non-staggered grid.\n",
    "Figure [Decoupling](#lab7:fig:decoupling) shows the decoupling of the grids."
   ]
  },
  {
   "cell_type": "code",
   "execution_count": null,
   "metadata": {
    "scrolled": true
   },
   "outputs": [],
   "source": [
    "Image(filename='images/decoupling.png',width='50%') "
   ]
  },
  {
   "cell_type": "markdown",
   "metadata": {},
   "source": [
    "<div id='lab7:fig:decoupling'>\n",
    "<b>Figure Decoupling</b>: The two staggered grids and the unstaggered grid. Note that the\n",
    "unstaggered grid has two variables at each grid/time point whereas the\n",
    "staggered grids only have one.\n",
    "</div>"
   ]
  },
  {
   "cell_type": "markdown",
   "metadata": {},
   "source": [
    "Now consider the solution of the same problem on a staggered grid. The\n",
    "set-up of the problem is slightly different this time; we are\n",
    "considering 4 spatial points in our discussion instead of 5, shown in\n",
    "Figure [Staggered Grid](#lab7:fig:stagger). We will also be using $h_{i}$ and $u_{i}$ to\n",
    "denote the spatial points instead of $x = dx * i$."
   ]
  },
  {
   "cell_type": "code",
   "execution_count": null,
   "metadata": {},
   "outputs": [],
   "source": [
    "Image(filename='images/stagger.png',width='50%') "
   ]
  },
  {
   "cell_type": "markdown",
   "metadata": {
    "lines_to_next_cell": 0
   },
   "source": [
    "<div id='lab7:fig:stagger'>\n",
    "<b>Figure Staggered Grid</b>: The staggered grid for the drop in the pond problem.\n",
    "</div>\n",
    "\n",
    "The original equations, boundary and initial conditions are changed to\n",
    "reflect the staggered case. The equations are changed to the following:\n",
    "<div id='lab7:eq:staggerGrid1'>\n",
    "(Staggered, Eqn 1)\n",
    "$$\\frac {u_{i}(t+dt)-u_{i}(t-dt)}{2 dt} + g \\frac {h_{i + 1}(t) - h_{i}(t)}{dx} = 0$$\n",
    "</div><div id='lab7:eq:staggerGrid2'>\n",
    "(Staggered, Eqn 2)\n",
    "$$\\frac {h_{i}(t+dt)-h_{i}(t-dt)}{2 dt} + H \\frac {u_{i}(t) - u_{i - 1}(t)}{dx} = 0$$\n",
    "</div>\n",
    "\n",
    "The initial conditions are: At $t = 0$ and $t = dt$, all points have\n",
    "zero elevation except at $h_{3}$, where $$h_{3}(0) = h_{0}$$\n",
    "$$h_{3}(dt) = h_{3}(0) - h_{0} Hg \\frac{dt^2}{dx^2}$$ At $t = 0$ and\n",
    "$t = dt$, all points have zero velocity except at $u_{2}$ and $u_{3}$,\n",
    "where $$u_{2}(dt) = - h_{0} g \\frac{dt}{dx}$$\n",
    "$$u_{3}(dt) = - u_{2}(dt)$$ This time we assume there is a wall at\n",
    "$u_{1}$ and $u_{4}$, so we will ignore the value of $h_{1}$. The\n",
    "boundary conditions are: $$u_{1}(t) = 0$$ $$u_{4}(t) = 0$$\n"
   ]
  },
  {
   "cell_type": "markdown",
   "metadata": {
    "lines_to_next_cell": 0
   },
   "source": [
    "### Problem One\n",
    "[lab7:prob:staggered]:(#Problem-One) \n",
    "> Modify *rain.py* to solve this problem (Simple\n",
    "equations on a staggered grid). Submit your code and a final plot for\n",
    "one case.\n",
    "\n"
   ]
  },
  {
   "cell_type": "markdown",
   "metadata": {
    "lines_to_next_cell": 3
   },
   "source": [
    "### Problem Two \n",
    "[lab7:prob:stability]:(#Problem-Two)\n",
    "> a) Find the CFL condition (in seconds) for $dt$\n",
    "for the Python example in Problem One.\n",
    "<!--- [lab7:prob:staggered]---> Test your\n",
    "value. \n",
    "\n",
    "> b) Find the CFL condition (in seconds) for $dt$ for the Python\n",
    "example in *rain.py*, ie., for the non-staggered grid. Test your value.\n"
   ]
  }
 ],
 "metadata": {
  "jupytext": {
   "cell_metadata_filter": "all",
   "encoding": "# -*- coding: utf-8 -*-",
   "formats": "ipynb,py:percent",
   "notebook_metadata_filter": "all,-language_info,-toc,-latex_envs"
  },
  "kernelspec": {
   "display_name": "Python 3",
   "language": "python",
   "name": "python3"
  },
  "language_info": {
   "codemirror_mode": {
    "name": "ipython",
    "version": 3
   },
   "file_extension": ".py",
   "mimetype": "text/x-python",
   "name": "python",
   "nbconvert_exporter": "python",
   "pygments_lexer": "ipython3",
   "version": "3.7.6"
  },
  "latex_envs": {
   "LaTeX_envs_menu_present": true,
   "autoclose": false,
   "autocomplete": true,
   "bibliofile": "biblio.bib",
   "cite_by": "apalike",
   "current_citInitial": 1,
   "eqLabelWithNumbers": true,
   "eqNumInitial": 1,
   "hotkeys": {
    "equation": "meta-9"
   },
   "labels_anchors": false,
   "latex_user_defs": false,
   "report_style_numbering": false,
   "user_envs_cfg": false
  },
  "toc": {
   "base_numbering": 1,
   "nav_menu": {},
   "number_sections": true,
   "sideBar": true,
   "skip_h1_title": true,
   "title_cell": "Table of Contents",
   "title_sidebar": "Contents",
   "toc_cell": false,
   "toc_position": {},
   "toc_section_display": true,
   "toc_window_display": true
  }
 },
 "nbformat": 4,
 "nbformat_minor": 4
}
