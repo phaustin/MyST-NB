{
 "cells": [
  {
   "cell_type": "markdown",
   "metadata": {},
   "source": [
    "# Tex parsing problem?\n",
    "\n",
    "## Introduction\n",
    "\n",
    "<div id=\"Figure-Model-Ocean\">\n",
    "<strong>Figure Model Ocean</strong> The rectangular ocean with flat bottom, ignoring curvature\n",
    "effects.\n",
    "</div>\n",
    "\n",
    "Let's see an unescaped apostrophe.\n",
    "\n",
    "More information on what is a $\\beta$-plane and on the neglect of\n",
    "curvature terms in the $\\beta$-plane approximation is given in the\n",
    "appendix.\n",
    "\n",
    "If we assume that the ocean is homogeneous (it has constant density\n",
    "throughout), then the equations governing the fluid motion on the\n",
    "$\\beta$-plane are: \n",
    "\n",
    "<div id=\"eq:xmom\">(X-Momentum Eqn)</div>"
   ]
  },
  {
   "cell_type": "markdown",
   "metadata": {},
   "source": [
    "$$\n",
    "\\frac{\\partial u}{\\partial t} + u \\frac {\\partial u}{\\partial x} + v \\frac {\\partial u}{\\partial y} + w \\frac{\\partial u}{\\partial z} - fv = - \\, \\frac{1}{\\rho} \\, \\frac {\\partial p}{\\partial x}\n",
    "+ A_v \\, \\frac{\\partial^2 u}{\\partial z^2} + A_h \\, \\nabla^2 u\n",
    "$$(eq:one)"
   ]
  },
  {
   "cell_type": "markdown",
   "metadata": {},
   "source": [
    "<div id=\"eq:ymom\">(Y-Momentum Eqn)</div>\n",
    "\n",
    "\\begin{equation}\n",
    "\\frac{\\partial v}{\\partial t} + u \\frac{\\partial v}{\\partial x} + v \\frac{\\partial v}{\\partial y} + w \\frac{\\partial v}{\\partial z} + fu = - \\, \\frac{1}{\\rho} \\, \\frac{\\partial p}{\\partial y}\n",
    "+ A_v \\, \\frac{\\partial^2 v}{\\partial z^2} + A_h \\, \\nabla^2 v\n",
    "\\end{equation}"
   ]
  },
  {
   "cell_type": "markdown",
   "metadata": {},
   "source": [
    "<div id=\"eq:hydrostatic\">(Hydrostatic Eqn)</div>\n",
    "\n",
    "\\begin{equation}\n",
    "\\frac{\\partial p}{\\partial z} = - \\rho g\n",
    "\\end{equation}"
   ]
  },
  {
   "cell_type": "markdown",
   "metadata": {},
   "source": [
    "<div id=\"eq:continuity\">(Continuity Eqn)</div>\n",
    "\n",
    "\\begin{equation}\n",
    "\\frac {\\partial u}{\\partial x} + \\frac{\\partial v}{\\partial y} = - \\, \\frac{\\partial w}{\\partial z}\n",
    "\\end{equation}"
   ]
  },
  {
   "cell_type": "markdown",
   "metadata": {},
   "source": [
    "where\n",
    "\n",
    "-   ([X-Momentum Eqn](#eq:xmom)) and ([Y-Momentum Eqn](#eq:ymom)) are the lateral momentum equations,\n",
    "\n",
    "-   ([Hydrostatic Eqn](#eq:hydrostatic)) is the hydrostatic balance (and replaces the vertical momentum\n",
    "    equation), and\n",
    "\n",
    "-   ([Continuity Eqn](#eq:continuity)) is the continuity (or incompressibility or conservation of volume) condition."
   ]
  },
  {
   "cell_type": "markdown",
   "metadata": {},
   "source": [
    "The variables and parameters appearing above are:\n",
    "\n",
    "-   $(u,v,w)$, the fluid velocity components;\n",
    "\n",
    "-   $f(y)$, the Coriolis parameter (assumed to be a linear function of\n",
    "    $y$);\n",
    "\n",
    "-   $\\rho$, the density (assumed constant for a homogeneous fluid);\n",
    "\n",
    "-   $A_v$ and $A_h$, the vertical and horizontal coefficients of\n",
    "    viscosity, respectively (constants);\n",
    "\n",
    "-   $g$, the gravitational acceleration (constant).\n",
    "\n",
    "Equations ([X-Momentum Eqn](#eq:xmom)), ([Y-Momentum Eqn](#eq:ymom)), ([Hydrostatic Eqn](#eq:hydrostatic)) and ([Continuity Eqn](#eq:continuity)) form a non-linear system of PDE’s, for which there are many\n",
    "numerical methods available. However, due to the complexity of the\n",
    "equations, the methods themselves are *very complex*, and\n",
    "consume a large amount of CPU time. It is therefore advantageous for us\n",
    "to reduce the equations to a simpler form, for which common, and more\n",
    "efficient numerical solution techniques can be used.\n",
    "\n",
    "## Section new\n"
   ]
  },
  {
   "cell_type": "code",
   "execution_count": null,
   "metadata": {},
   "outputs": [],
   "source": []
  }
 ],
 "metadata": {
  "jupytext": {
   "cell_metadata_filter": "-all",
   "formats": "ipynb,py:percent",
   "main_language": "python",
   "notebook_metadata_filter": "-all"
  },
  "kernelspec": {
   "display_name": "Python 3",
   "language": "python",
   "name": "python3"
  },
  "language_info": {
   "codemirror_mode": {
    "name": "ipython",
    "version": 3
   },
   "file_extension": ".py",
   "mimetype": "text/x-python",
   "name": "python",
   "nbconvert_exporter": "python",
   "pygments_lexer": "ipython3",
   "version": "3.7.6"
  },
  "latex_envs": {
   "LaTeX_envs_menu_present": true,
   "autoclose": false,
   "autocomplete": true,
   "bibliofile": "biblio.bib",
   "cite_by": "apalike",
   "current_citInitial": 1,
   "eqLabelWithNumbers": true,
   "eqNumInitial": 1,
   "hotkeys": {
    "equation": "meta-9"
   },
   "labels_anchors": false,
   "latex_user_defs": false,
   "report_style_numbering": false,
   "user_envs_cfg": false
  }
 },
 "nbformat": 4,
 "nbformat_minor": 4
}
